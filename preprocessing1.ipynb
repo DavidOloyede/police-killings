{
 "cells": [
  {
   "cell_type": "code",
   "execution_count": 145,
   "metadata": {},
   "outputs": [],
   "source": [
    "import os\n",
    "import warnings\n",
    "\n",
    "import matplotlib.pyplot as plt\n",
    "import numpy as np\n",
    "import pandas as pd\n",
    "import seaborn as sns\n",
    "from IPython.display import display\n",
    "\n",
    "from scipy import stats\n",
    "from scipy.stats import norm, skew\n",
    "\n",
    "from pandas.api.types import CategoricalDtype"
   ]
  },
  {
   "cell_type": "code",
   "execution_count": 146,
   "metadata": {},
   "outputs": [
    {
     "data": {
      "text/plain": [
       "'C:\\\\Users\\\\doloy\\\\OneDrive\\\\Documents\\\\policeproj'"
      ]
     },
     "execution_count": 146,
     "metadata": {},
     "output_type": "execute_result"
    }
   ],
   "source": [
    "pwd"
   ]
  },
  {
   "cell_type": "code",
   "execution_count": 147,
   "metadata": {},
   "outputs": [
    {
     "data": {
      "text/html": [
       "<div>\n",
       "<style scoped>\n",
       "    .dataframe tbody tr th:only-of-type {\n",
       "        vertical-align: middle;\n",
       "    }\n",
       "\n",
       "    .dataframe tbody tr th {\n",
       "        vertical-align: top;\n",
       "    }\n",
       "\n",
       "    .dataframe thead th {\n",
       "        text-align: right;\n",
       "    }\n",
       "</style>\n",
       "<table border=\"1\" class=\"dataframe\">\n",
       "  <thead>\n",
       "    <tr style=\"text-align: right;\">\n",
       "      <th></th>\n",
       "      <th>name</th>\n",
       "      <th>age</th>\n",
       "      <th>gender</th>\n",
       "      <th>raceethnicity</th>\n",
       "      <th>month</th>\n",
       "      <th>day</th>\n",
       "      <th>year</th>\n",
       "      <th>streetaddress</th>\n",
       "      <th>city</th>\n",
       "      <th>state</th>\n",
       "      <th>...</th>\n",
       "      <th>share_hispanic</th>\n",
       "      <th>p_income</th>\n",
       "      <th>h_income</th>\n",
       "      <th>county_income</th>\n",
       "      <th>comp_income</th>\n",
       "      <th>county_bucket</th>\n",
       "      <th>nat_bucket</th>\n",
       "      <th>pov</th>\n",
       "      <th>urate</th>\n",
       "      <th>college</th>\n",
       "    </tr>\n",
       "  </thead>\n",
       "  <tbody>\n",
       "    <tr>\n",
       "      <th>0</th>\n",
       "      <td>A'donte Washington</td>\n",
       "      <td>16</td>\n",
       "      <td>Male</td>\n",
       "      <td>Black</td>\n",
       "      <td>February</td>\n",
       "      <td>23</td>\n",
       "      <td>2015</td>\n",
       "      <td>Clearview Ln</td>\n",
       "      <td>Millbrook</td>\n",
       "      <td>AL</td>\n",
       "      <td>...</td>\n",
       "      <td>5.6</td>\n",
       "      <td>28375</td>\n",
       "      <td>51367.0</td>\n",
       "      <td>54766</td>\n",
       "      <td>0.937936</td>\n",
       "      <td>3.0</td>\n",
       "      <td>3.0</td>\n",
       "      <td>14.1</td>\n",
       "      <td>0.097686</td>\n",
       "      <td>0.168510</td>\n",
       "    </tr>\n",
       "    <tr>\n",
       "      <th>1</th>\n",
       "      <td>Aaron Rutledge</td>\n",
       "      <td>27</td>\n",
       "      <td>Male</td>\n",
       "      <td>White</td>\n",
       "      <td>April</td>\n",
       "      <td>2</td>\n",
       "      <td>2015</td>\n",
       "      <td>300 block Iris Park Dr</td>\n",
       "      <td>Pineville</td>\n",
       "      <td>LA</td>\n",
       "      <td>...</td>\n",
       "      <td>0.5</td>\n",
       "      <td>14678</td>\n",
       "      <td>27972.0</td>\n",
       "      <td>40930</td>\n",
       "      <td>0.683411</td>\n",
       "      <td>2.0</td>\n",
       "      <td>1.0</td>\n",
       "      <td>28.8</td>\n",
       "      <td>0.065724</td>\n",
       "      <td>0.111402</td>\n",
       "    </tr>\n",
       "    <tr>\n",
       "      <th>2</th>\n",
       "      <td>Aaron Siler</td>\n",
       "      <td>26</td>\n",
       "      <td>Male</td>\n",
       "      <td>White</td>\n",
       "      <td>March</td>\n",
       "      <td>14</td>\n",
       "      <td>2015</td>\n",
       "      <td>22nd Ave and 56th St</td>\n",
       "      <td>Kenosha</td>\n",
       "      <td>WI</td>\n",
       "      <td>...</td>\n",
       "      <td>16.8</td>\n",
       "      <td>25286</td>\n",
       "      <td>45365.0</td>\n",
       "      <td>54930</td>\n",
       "      <td>0.825869</td>\n",
       "      <td>2.0</td>\n",
       "      <td>3.0</td>\n",
       "      <td>14.6</td>\n",
       "      <td>0.166293</td>\n",
       "      <td>0.147312</td>\n",
       "    </tr>\n",
       "    <tr>\n",
       "      <th>3</th>\n",
       "      <td>Aaron Valdez</td>\n",
       "      <td>25</td>\n",
       "      <td>Male</td>\n",
       "      <td>Hispanic/Latino</td>\n",
       "      <td>March</td>\n",
       "      <td>11</td>\n",
       "      <td>2015</td>\n",
       "      <td>3000 Seminole Ave</td>\n",
       "      <td>South Gate</td>\n",
       "      <td>CA</td>\n",
       "      <td>...</td>\n",
       "      <td>98.8</td>\n",
       "      <td>17194</td>\n",
       "      <td>48295.0</td>\n",
       "      <td>55909</td>\n",
       "      <td>0.863814</td>\n",
       "      <td>3.0</td>\n",
       "      <td>3.0</td>\n",
       "      <td>11.7</td>\n",
       "      <td>0.124827</td>\n",
       "      <td>0.050133</td>\n",
       "    </tr>\n",
       "    <tr>\n",
       "      <th>4</th>\n",
       "      <td>Adam Jovicic</td>\n",
       "      <td>29</td>\n",
       "      <td>Male</td>\n",
       "      <td>White</td>\n",
       "      <td>March</td>\n",
       "      <td>19</td>\n",
       "      <td>2015</td>\n",
       "      <td>364 Hiwood Ave</td>\n",
       "      <td>Munroe Falls</td>\n",
       "      <td>OH</td>\n",
       "      <td>...</td>\n",
       "      <td>1.7</td>\n",
       "      <td>33954</td>\n",
       "      <td>68785.0</td>\n",
       "      <td>49669</td>\n",
       "      <td>1.384868</td>\n",
       "      <td>5.0</td>\n",
       "      <td>4.0</td>\n",
       "      <td>1.9</td>\n",
       "      <td>0.063550</td>\n",
       "      <td>0.403954</td>\n",
       "    </tr>\n",
       "  </tbody>\n",
       "</table>\n",
       "<p>5 rows × 34 columns</p>\n",
       "</div>"
      ],
      "text/plain": [
       "                 name age gender    raceethnicity     month  day  year  \\\n",
       "0  A'donte Washington  16   Male            Black  February   23  2015   \n",
       "1      Aaron Rutledge  27   Male            White     April    2  2015   \n",
       "2         Aaron Siler  26   Male            White     March   14  2015   \n",
       "3        Aaron Valdez  25   Male  Hispanic/Latino     March   11  2015   \n",
       "4        Adam Jovicic  29   Male            White     March   19  2015   \n",
       "\n",
       "            streetaddress          city state  ...  share_hispanic  p_income  \\\n",
       "0            Clearview Ln     Millbrook    AL  ...             5.6     28375   \n",
       "1  300 block Iris Park Dr     Pineville    LA  ...             0.5     14678   \n",
       "2    22nd Ave and 56th St       Kenosha    WI  ...            16.8     25286   \n",
       "3       3000 Seminole Ave    South Gate    CA  ...            98.8     17194   \n",
       "4          364 Hiwood Ave  Munroe Falls    OH  ...             1.7     33954   \n",
       "\n",
       "   h_income  county_income  comp_income  county_bucket  nat_bucket   pov  \\\n",
       "0   51367.0          54766     0.937936            3.0         3.0  14.1   \n",
       "1   27972.0          40930     0.683411            2.0         1.0  28.8   \n",
       "2   45365.0          54930     0.825869            2.0         3.0  14.6   \n",
       "3   48295.0          55909     0.863814            3.0         3.0  11.7   \n",
       "4   68785.0          49669     1.384868            5.0         4.0   1.9   \n",
       "\n",
       "      urate   college  \n",
       "0  0.097686  0.168510  \n",
       "1  0.065724  0.111402  \n",
       "2  0.166293  0.147312  \n",
       "3  0.124827  0.050133  \n",
       "4  0.063550  0.403954  \n",
       "\n",
       "[5 rows x 34 columns]"
      ]
     },
     "execution_count": 147,
     "metadata": {},
     "output_type": "execute_result"
    }
   ],
   "source": [
    "df=pd.read_csv(r'C:\\Users\\doloy\\OneDrive\\Documents\\policeproj\\police_killings.csv', encoding = \"ISO-8859-1\", engine='python')\n",
    "df.head()"
   ]
  },
  {
   "cell_type": "code",
   "execution_count": 148,
   "metadata": {},
   "outputs": [
    {
     "data": {
      "text/plain": [
       "Index(['name', 'age', 'gender', 'raceethnicity', 'month', 'day', 'year',\n",
       "       'streetaddress', 'city', 'state', 'latitude', 'longitude', 'state_fp',\n",
       "       'county_fp', 'tract_ce', 'geo_id', 'county_id', 'namelsad',\n",
       "       'lawenforcementagency', 'cause', 'armed', 'pop', 'share_white',\n",
       "       'share_black', 'share_hispanic', 'p_income', 'h_income',\n",
       "       'county_income', 'comp_income', 'county_bucket', 'nat_bucket', 'pov',\n",
       "       'urate', 'college'],\n",
       "      dtype='object')"
      ]
     },
     "execution_count": 148,
     "metadata": {},
     "output_type": "execute_result"
    }
   ],
   "source": [
    "df.columns"
   ]
  },
  {
   "cell_type": "code",
   "execution_count": 149,
   "metadata": {},
   "outputs": [
    {
     "name": "stdout",
     "output_type": "stream",
     "text": [
      "<class 'pandas.core.frame.DataFrame'>\n",
      "RangeIndex: 467 entries, 0 to 466\n",
      "Data columns (total 34 columns):\n",
      " #   Column                Non-Null Count  Dtype  \n",
      "---  ------                --------------  -----  \n",
      " 0   name                  467 non-null    object \n",
      " 1   age                   467 non-null    object \n",
      " 2   gender                467 non-null    object \n",
      " 3   raceethnicity         467 non-null    object \n",
      " 4   month                 467 non-null    object \n",
      " 5   day                   467 non-null    int64  \n",
      " 6   year                  467 non-null    int64  \n",
      " 7   streetaddress         463 non-null    object \n",
      " 8   city                  467 non-null    object \n",
      " 9   state                 467 non-null    object \n",
      " 10  latitude              467 non-null    float64\n",
      " 11  longitude             467 non-null    float64\n",
      " 12  state_fp              467 non-null    int64  \n",
      " 13  county_fp             467 non-null    int64  \n",
      " 14  tract_ce              467 non-null    int64  \n",
      " 15  geo_id                467 non-null    int64  \n",
      " 16  county_id             467 non-null    int64  \n",
      " 17  namelsad              467 non-null    object \n",
      " 18  lawenforcementagency  467 non-null    object \n",
      " 19  cause                 467 non-null    object \n",
      " 20  armed                 467 non-null    object \n",
      " 21  pop                   467 non-null    int64  \n",
      " 22  share_white           467 non-null    object \n",
      " 23  share_black           467 non-null    object \n",
      " 24  share_hispanic        467 non-null    object \n",
      " 25  p_income              467 non-null    object \n",
      " 26  h_income              465 non-null    float64\n",
      " 27  county_income         467 non-null    int64  \n",
      " 28  comp_income           465 non-null    float64\n",
      " 29  county_bucket         440 non-null    float64\n",
      " 30  nat_bucket            465 non-null    float64\n",
      " 31  pov                   467 non-null    object \n",
      " 32  urate                 465 non-null    float64\n",
      " 33  college               465 non-null    float64\n",
      "dtypes: float64(8), int64(9), object(17)\n",
      "memory usage: 124.2+ KB\n"
     ]
    }
   ],
   "source": [
    "#Alot of these objects should be ints because they contain unknown, - , NA, 0\n",
    "\n",
    "#Delete columns not needed \n",
    "df.info()"
   ]
  },
  {
   "cell_type": "code",
   "execution_count": 150,
   "metadata": {},
   "outputs": [],
   "source": [
    "#*NEEDS WORK*\n",
    "#Delete all rows that are \"Unkown\", \"-\" and maybe delete or fill the NA and 0\n",
    "df = df[df.age != \"Unknown\"]\n",
    "df = df[df.p_income != \"Unknown\"]\n",
    "df = df[df.p_income != \"-\"]"
   ]
  },
  {
   "cell_type": "code",
   "execution_count": 151,
   "metadata": {},
   "outputs": [],
   "source": [
    "#Convert objects to int and float\n",
    "df[\"age\"] = df[\"age\"].astype(str).astype(int)\n",
    "df[\"p_income\"] = df[\"p_income\"].astype(str).astype(float)"
   ]
  },
  {
   "cell_type": "code",
   "execution_count": 152,
   "metadata": {},
   "outputs": [
    {
     "name": "stdout",
     "output_type": "stream",
     "text": [
      "['No' 'Firearm' 'Non-lethal firearm' 'Other' 'Knife' 'Vehicle' 'Unknown'\n",
      " 'Disputed']\n",
      "['Black' 'White' 'Hispanic/Latino' 'Unknown' 'Asian/Pacific Islander'\n",
      " 'Native American']\n",
      "['Gunshot' 'Death in custody' 'Taser' 'Struck by vehicle' 'Unknown']\n"
     ]
    }
   ],
   "source": [
    "print(df.armed.unique())\n",
    "print(df.raceethnicity.unique())\n",
    "print(df.cause.unique())"
   ]
  },
  {
   "cell_type": "code",
   "execution_count": 153,
   "metadata": {},
   "outputs": [
    {
     "data": {
      "text/plain": [
       "array([3., 1., 4., 2., 5.])"
      ]
     },
     "execution_count": 153,
     "metadata": {},
     "output_type": "execute_result"
    }
   ],
   "source": [
    "df.nat_bucket.unique()"
   ]
  },
  {
   "cell_type": "code",
   "execution_count": 154,
   "metadata": {},
   "outputs": [],
   "source": [
    "#Encoding\n",
    "nominal_features=[\"gender\",\"raceethnicity\",\"month\",\"streetaddress\",\"state\",\"cause\",\"armed\",\"county_bucket\",\"nat_bucket\"]\n",
    "\n",
    "order_levels = {\n",
    "    \"county_bucket\": ['1', '2', '3', '4', '5'],\n",
    "    \"nat_bucket\": ['1', '2', '3', '4', '5'],\n",
    "    \"gender\": [\"Male\", \"Female\"]\n",
    "    \n",
    "}\n",
    "\n",
    "def encode(df):\n",
    "    for col in nominal_features:\n",
    "        df[col]=df[col].astype(\"category\")\n",
    "        \n",
    "    for col, order_level in order_levels.items():\n",
    "        df[col] = df[col].astype(CategoricalDtype(order_level, ordered=True))\n",
    "        \n",
    "#     mapper = {\"Po\":1, \"Fa\":2, \"TA\":3, \"Gd\":4, \"Ex\":5}\n",
    "#     df[\"ExterCond\"] = df[\"ExterCond\"].replace(mapper)\n",
    "        \n",
    "    return df\n",
    "        \n",
    "    \n",
    "df = encode(df) "
   ]
  },
  {
   "cell_type": "code",
   "execution_count": 155,
   "metadata": {},
   "outputs": [
    {
     "name": "stdout",
     "output_type": "stream",
     "text": [
      "[3, 2, 5, 1, 4, NaN]\n",
      "Categories (5, object): [1 < 2 < 3 < 4 < 5]\n",
      "[3, 1, 4, 2, 5]\n",
      "Categories (5, object): [1 < 2 < 3 < 4 < 5]\n",
      "[Male, Female]\n",
      "Categories (2, object): [Male < Female]\n"
     ]
    }
   ],
   "source": [
    "print(df.county_bucket.unique())\n",
    "print(df.nat_bucket.unique())\n",
    "print(df.gender.unique())"
   ]
  },
  {
   "cell_type": "code",
   "execution_count": 156,
   "metadata": {},
   "outputs": [],
   "source": [
    "def drop_missing_values(df):\n",
    "    df = df[df.columns[df.isnull().mean()<0.7]]\n",
    "    df = df.loc[df.isnull().mean(axis=1)<0.7]\n",
    "    \n",
    "    return df\n",
    "\n",
    "def impute(df):\n",
    "    for col in df.select_dtypes(\"number\"):\n",
    "#         df[col] = df[col].fillna(0)\n",
    "        df[col] = df[col].fillna(df[col].median())\n",
    "    \n",
    "    for col in df.select_dtypes(\"category\"):\n",
    "        if \"None\" not in df[col].cat.categories: df[col].cat.add_categories(\"None\", inplace=True)\n",
    "        df[col] = df[col].fillna(\"None\")\n",
    "        \n",
    "    return df\n",
    "\n",
    "\n",
    "df = drop_missing_values(df)\n",
    "df = impute(df)"
   ]
  },
  {
   "cell_type": "code",
   "execution_count": 157,
   "metadata": {},
   "outputs": [
    {
     "name": "stdout",
     "output_type": "stream",
     "text": [
      "[3, 2, 5, 1, 4, None]\n",
      "Categories (6, object): [1 < 2 < 3 < 4 < 5 < None]\n",
      "[3, 1, 4, 2, 5]\n",
      "Categories (5, object): [1 < 2 < 3 < 4 < 5]\n",
      "[Male, Female]\n",
      "Categories (2, object): [Male < Female]\n"
     ]
    }
   ],
   "source": [
    "print(df.county_bucket.unique())\n",
    "print(df.nat_bucket.unique())\n",
    "print(df.gender.unique())"
   ]
  },
  {
   "cell_type": "code",
   "execution_count": 158,
   "metadata": {},
   "outputs": [
    {
     "data": {
      "image/png": "[encoded data removed]",
      "text/plain": [
       "<Figure size 432x288 with 1 Axes>"
      ]
     },
     "metadata": {
      "needs_background": "light"
     },
     "output_type": "display_data"
    }
   ],
   "source": [
    "fig, ax = plt.subplots()\n",
    "ax.scatter(x = df.p_income, y = df.age)\n",
    "plt.ylabel('lat', fontsize=15)\n",
    "plt.xlabel('long', fontsize=15)\n",
    "plt.show()"
   ]
  },
  {
   "cell_type": "code",
   "execution_count": 159,
   "metadata": {},
   "outputs": [
    {
     "data": {
      "image/png": "[encoded data removed]",
      "text/plain": [
       "<Figure size 432x288 with 1 Axes>"
      ]
     },
     "metadata": {
      "needs_background": "light"
     },
     "output_type": "display_data"
    }
   ],
   "source": [
    "fig, ax = plt.subplots()\n",
    "ax.scatter(x = df.longitude, y = df.latitude)\n",
    "plt.ylabel('lat', fontsize=15)\n",
    "plt.xlabel('long', fontsize=15)\n",
    "plt.show()"
   ]
  },
  {
   "cell_type": "code",
   "execution_count": 160,
   "metadata": {},
   "outputs": [
    {
     "data": {
      "image/png": "[encoded data removed]",
      "text/plain": [
       "<Figure size 432x288 with 1 Axes>"
      ]
     },
     "metadata": {
      "needs_background": "light"
     },
     "output_type": "display_data"
    }
   ],
   "source": [
    "df = df.drop(df[(df.longitude<-130) & (df.latitude>55) & (df.latitude>30)].index)\n",
    "\n",
    "\n",
    "fig, ax = plt.subplots()\n",
    "ax.scatter(x = df.longitude, y = df.latitude)\n",
    "plt.ylabel('Sales Price', fontsize=15)\n",
    "plt.xlabel('Gr Live Area', fontsize=15)\n",
    "plt.show()"
   ]
  },
  {
   "cell_type": "code",
   "execution_count": 161,
   "metadata": {},
   "outputs": [
    {
     "data": {
      "image/png": "[encoded data removed]",
      "text/plain": [
       "<Figure size 432x288 with 1 Axes>"
      ]
     },
     "metadata": {
      "needs_background": "light"
     },
     "output_type": "display_data"
    },
    {
     "data": {
      "image/png": "[encoded data removed]",
      "text/plain": [
       "<Figure size 432x288 with 1 Axes>"
      ]
     },
     "metadata": {
      "needs_background": "light"
     },
     "output_type": "display_data"
    }
   ],
   "source": [
    "#Log Transformation\n",
    "\n",
    "sns.distplot(df.age)\n",
    "\n",
    "fig = plt.figure()\n",
    "res = stats.probplot(df.age, plot=plt)\n",
    "plt.show()"
   ]
  },
  {
   "cell_type": "code",
   "execution_count": 163,
   "metadata": {},
   "outputs": [
    {
     "data": {
      "image/png": "[encoded data removed]",
      "text/plain": [
       "<Figure size 432x288 with 1 Axes>"
      ]
     },
     "metadata": {
      "needs_background": "light"
     },
     "output_type": "display_data"
    },
    {
     "data": {
      "image/png": "[encoded data removed]",
      "text/plain": [
       "<Figure size 432x288 with 1 Axes>"
      ]
     },
     "metadata": {
      "needs_background": "light"
     },
     "output_type": "display_data"
    }
   ],
   "source": [
    "df.age = np.log1p(df.age)\n",
    "\n",
    "sns.distplot(df.age)\n",
    "\n",
    "fig = plt.figure()\n",
    "res = stats.probplot(df.age, plot=plt)\n",
    "plt.show()"
   ]
  },
  {
   "cell_type": "code",
   "execution_count": null,
   "metadata": {},
   "outputs": [],
   "source": []
  }
 ],
 "metadata": {
  "kernelspec": {
   "display_name": "Python 3",
   "language": "python",
   "name": "python3"
  },
  "language_info": {
   "codemirror_mode": {
    "name": "ipython",
    "version": 3
   },
   "file_extension": ".py",
   "mimetype": "text/x-python",
   "name": "python",
   "nbconvert_exporter": "python",
   "pygments_lexer": "ipython3",
   "version": "3.8.3"
  }
 },
 "nbformat": 4,
 "nbformat_minor": 4
}
